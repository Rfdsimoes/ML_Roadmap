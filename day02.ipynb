{
 "cells": [
  {
   "cell_type": "code",
   "execution_count": 37,
   "id": "5384815e-4c93-43ed-b28f-8751a9a29ba1",
   "metadata": {},
   "outputs": [],
   "source": [
    "def factorial(n):\n",
    "    total=1\n",
    "    for x in range(2,n+1):\n",
    "        total = total*x\n",
    "    print(total)\n",
    "\n",
    "# factorial(9)"
   ]
  },
  {
   "cell_type": "code",
   "execution_count": 39,
   "id": "a876641b-90f6-48dc-be5c-9fe57939549e",
   "metadata": {},
   "outputs": [],
   "source": [
    "def is_prime(n):\n",
    "    if n==1:\n",
    "        return print(f\"{n} is not prime\")\n",
    "    if n <= 3:\n",
    "        return print(f\"{n} is prime\")\n",
    "    if n % 2 == 0 or n % 3 == 0:\n",
    "        return print(f\"{n} is not prime\")\n",
    "\n",
    "    i=5\n",
    "    while i*i <= n:\n",
    "        if( n % i == 0 or n % (i+2) == 0):\n",
    "            return print(f\"{n} is not prime\")\n",
    "        i += 6\n",
    "    return print(f\"{n} is prime\")\n",
    "        \n",
    "        \n",
    "#for i in range(100):\n",
    "#   is_prime(i)"
   ]
  },
  {
   "cell_type": "code",
   "execution_count": 43,
   "id": "f7208d6d-91ce-4cee-a80b-c8c8dc590ee8",
   "metadata": {},
   "outputs": [],
   "source": [
    "squares = [i*i for i in range(20) if i % 2 ==0]\n",
    "\n",
    "# print(squares)"
   ]
  },
  {
   "cell_type": "code",
   "execution_count": 77,
   "id": "0ead4bcc-7e8b-48fa-85c0-6e44631a3e11",
   "metadata": {},
   "outputs": [
    {
     "name": "stdout",
     "output_type": "stream",
     "text": [
      "1275\n"
     ]
    }
   ],
   "source": [
    "from pathlib import Path\n",
    "\n",
    "src_dir = str(Path.cwd()) + \"/src/\"\n",
    "with open(src_dir + \"numbers.txt\", \"w\") as file:\n",
    "    for i in range(1,51):\n",
    "        file.write(f\"{i}\\n\")\n",
    "\n",
    "with open(src_dir + \"numbers.txt\", \"r\") as file:\n",
    "        values = [int(line.strip()) for line in file]\n",
    "\n",
    "total = sum(values)\n",
    "\n",
    "#print(total)"
   ]
  },
  {
   "cell_type": "code",
   "execution_count": 3,
   "id": "93ef6a8d-3c3a-4ab4-92c4-bfa0d5a1328f",
   "metadata": {},
   "outputs": [
    {
     "name": "stdin",
     "output_type": "stream",
     "text": [
      "What u wanna do? (A)dd, (S)earch, (L)ist_contacts or (Q)uit? q\n"
     ]
    }
   ],
   "source": [
    "import csv\n",
    "import pathlib\n",
    "\n",
    "\n",
    "DB = pathlib.Path(\"src/contacts.csv\")\n",
    "\n",
    "def ini_db():\n",
    "    if not DB.exists():\n",
    "        with open(DB,\"w\", newline=\"\", encoding=\"utf-8\") as file:\n",
    "            csv.writer(file, delimiter=\";\").writerow([\"Name\",\"Number\"])\n",
    "    \n",
    "\n",
    "def add_contact():\n",
    "    name, phone = input(f\"What is the name and phone number you wanna add?\").split()\n",
    "    with open(DB, 'a', newline=\"\") as file:\n",
    "        csv.writer(file, delimiter=\";\").writerow([name,phone])\n",
    "\n",
    "def search_contact():\n",
    "    name = input(\"What is the name of the contact you wanna search?\")\n",
    "    with open(DB, 'r', newline=\"\") as file:\n",
    "        contact_list=list(csv.DictReader(file, delimiter=\";\"))\n",
    "        for contact in contact_list:\n",
    "            if contact[\"Name\"] == name:\n",
    "                return print(f\"This is {contact[\"Name\"]} number {contact[\"Number\"]}.\")\n",
    "        print(\"Contact not found\")\n",
    "            \n",
    "\n",
    "def list_contacts():\n",
    "    with open(DB, 'r', newline=\"\") as file:\n",
    "        contact_list=list(csv.DictReader(file, delimiter=\";\"))\n",
    "        for contact in contact_list:\n",
    "            print(f\"{contact[\"Name\"]}:{contact[\"Number\"]}\")\n",
    "\n",
    "\n",
    "def main():\n",
    "    ini_db()\n",
    "    while True:\n",
    "        instruction = input(\"What u wanna do? (A)dd, (S)earch, (L)ist_contacts or (Q)uit?\").lower()\n",
    "        if instruction == \"a\":\n",
    "            add_contact()\n",
    "        if instruction == \"s\":\n",
    "            search_contact()\n",
    "        if instruction == \"l\":\n",
    "            list_contacts()\n",
    "        if instruction == \"q\":\n",
    "            break;\n",
    "\n",
    "main()"
   ]
  },
  {
   "cell_type": "code",
   "execution_count": null,
   "id": "99ce6bad-2452-482b-bc82-0e6e3fea99a2",
   "metadata": {},
   "outputs": [],
   "source": []
  },
  {
   "cell_type": "code",
   "execution_count": null,
   "id": "04831676-4e11-44f4-a8fb-3647ebea89e4",
   "metadata": {},
   "outputs": [],
   "source": []
  }
 ],
 "metadata": {
  "kernelspec": {
   "display_name": "Python 3 (ipykernel)",
   "language": "python",
   "name": "python3"
  },
  "language_info": {
   "codemirror_mode": {
    "name": "ipython",
    "version": 3
   },
   "file_extension": ".py",
   "mimetype": "text/x-python",
   "name": "python",
   "nbconvert_exporter": "python",
   "pygments_lexer": "ipython3",
   "version": "3.13.6"
  }
 },
 "nbformat": 4,
 "nbformat_minor": 5
}
