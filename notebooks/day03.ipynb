{
 "cells": [
  {
   "cell_type": "code",
   "execution_count": 51,
   "id": "b6cb3c4d-a8e4-4fec-8b53-0034725370a9",
   "metadata": {},
   "outputs": [],
   "source": [
    "import numpy as np\n",
    "\n",
    "listex = list(range(1,21))\n",
    "a = np.array(listex)\n",
    "zeros = np.zeros((4,4))\n",
    "ones = np.ones((4,4))\n",
    "randoms = np.random.randint(2,10,(4,4))\n",
    "sequence = np.arange(2,10)\n",
    "\n",
    "a = np.reshape(a, (4,5))\n",
    "\n",
    "# print(a.shape) (4,5)\n",
    "# print(a.size) (4*5=20)\n"
   ]
  },
  {
   "cell_type": "code",
   "execution_count": 55,
   "id": "07646de4-2247-49f2-9ff6-63b7c9dc21e3",
   "metadata": {},
   "outputs": [],
   "source": [
    "x = np.array([1, 2, 3])\n",
    "y = np.array([10, 20, 30])\n",
    "\n",
    "# print(x + y)\n",
    "# print(x * y)\n",
    "# print(np.sqrt(x))\n",
    "# print(np.exp(x))\n",
    "# print(x > 1)"
   ]
  },
  {
   "cell_type": "code",
   "execution_count": 69,
   "id": "254d6ddd-9591-41f5-99cb-4b239e4a134d",
   "metadata": {},
   "outputs": [],
   "source": [
    "mat = np.random.randint(1, 10, (3, 3))\n",
    "\n",
    "# print(mat)\n",
    "# print(np.min(mat))\n",
    "# print(np.sum(mat))\n",
    "# print(np.mean(mat))\n",
    "# print(np.median(mat))\n",
    "# print(np.sum(mat,axis=0))  # sum of each column\n",
    "# print(np.sum(mat,axis=1))  # sum of each row"
   ]
  }
 ],
 "metadata": {
  "kernelspec": {
   "display_name": "Python 3 (ipykernel)",
   "language": "python",
   "name": "python3"
  },
  "language_info": {
   "codemirror_mode": {
    "name": "ipython",
    "version": 3
   },
   "file_extension": ".py",
   "mimetype": "text/x-python",
   "name": "python",
   "nbconvert_exporter": "python",
   "pygments_lexer": "ipython3",
   "version": "3.13.6"
  }
 },
 "nbformat": 4,
 "nbformat_minor": 5
}
