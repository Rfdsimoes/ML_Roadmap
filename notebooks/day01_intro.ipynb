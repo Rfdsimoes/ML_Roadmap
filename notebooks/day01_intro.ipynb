{
 "cells": [
  {
   "cell_type": "code",
   "execution_count": 11,
   "id": "1459610e-816e-43bf-a467-739f09e49f78",
   "metadata": {},
   "outputs": [
    {
     "name": "stdin",
     "output_type": "stream",
     "text": [
      "What is your name and age? Ricardo 32\n"
     ]
    },
    {
     "name": "stdout",
     "output_type": "stream",
     "text": [
      "Your name is Ricardo and your age is 32!\n"
     ]
    }
   ],
   "source": [
    "name, age = input(f\"What is your name and age?\").split()\n",
    "print(\"Your name is \" + name + \" and your age is \" + age + \"!\")\n"
   ]
  },
  {
   "cell_type": "code",
   "execution_count": 51,
   "id": "d1739fac-2988-4937-81c0-c0e6dcd11d32",
   "metadata": {},
   "outputs": [
    {
     "name": "stdout",
     "output_type": "stream",
     "text": [
      "1 is odd\n",
      "2 is even\n",
      "3 is odd\n",
      "4 is even\n",
      "5 is odd\n",
      "6 is even\n",
      "7 is odd\n",
      "8 is even\n",
      "9 is odd\n",
      "10 is even\n"
     ]
    },
    {
     "data": {
      "text/plain": [
       "220"
      ]
     },
     "execution_count": 51,
     "metadata": {},
     "output_type": "execute_result"
    }
   ],
   "source": [
    "numbers = list(range(1,11))\n",
    "\n",
    "def evenorodd(number_list):\n",
    "    for number in numbers:\n",
    "            print(f\"{number} is {\"even\" if number %2 == 0 else \"odd\"}\")\n",
    "    \n",
    "\n",
    "def sumsquareofevens(number_list):\n",
    "    return sum(number*number for number in numbers if number %2 == 0)\n",
    "    \n",
    "evenorodd(numbers)\n",
    "sumsquareofevens(numbers)"
   ]
  },
  {
   "cell_type": "code",
   "execution_count": null,
   "id": "664adddb-ce74-4de4-9887-afae5985a300",
   "metadata": {},
   "outputs": [],
   "source": []
  },
  {
   "cell_type": "code",
   "execution_count": null,
   "id": "5ee8d6c9-e9fc-485f-9624-4d2ae268d161",
   "metadata": {},
   "outputs": [],
   "source": []
  },
  {
   "cell_type": "code",
   "execution_count": null,
   "id": "11d78866-de8d-4347-a599-f2902c176248",
   "metadata": {},
   "outputs": [],
   "source": []
  }
 ],
 "metadata": {
  "kernelspec": {
   "display_name": "Python 3 (ipykernel)",
   "language": "python",
   "name": "python3"
  },
  "language_info": {
   "codemirror_mode": {
    "name": "ipython",
    "version": 3
   },
   "file_extension": ".py",
   "mimetype": "text/x-python",
   "name": "python",
   "nbconvert_exporter": "python",
   "pygments_lexer": "ipython3",
   "version": "3.13.6"
  }
 },
 "nbformat": 4,
 "nbformat_minor": 5
}
